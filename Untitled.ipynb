{
 "cells": [
  {
   "cell_type": "code",
   "execution_count": 1,
   "metadata": {},
   "outputs": [
    {
     "name": "stdout",
     "output_type": "stream",
     "text": [
      "Downloading data from https://github.com/fchollet/deep-learning-models/releases/download/v0.1/vgg16_weights_tf_dim_ordering_tf_kernels_notop.h5\n",
      "58892288/58889256 [==============================] - 93s 2us/step\n"
     ]
    }
   ],
   "source": [
    "from tensorflow.keras.applications.vgg16 import VGG16\n",
    "from tensorflow.keras.preprocessing import image\n",
    "from tensorflow.keras.applications.vgg16 import preprocess_input\n",
    "import numpy as np\n",
    "\n",
    "model = VGG16(weights='imagenet', include_top=False)\n",
    "\n",
    "img_path = (r'C:\\Users\\AKASH\\Downloads\\Computer-Vision-Tutorial-master\\Computer-Vision-Tutorial-master\\image_examples\\elephant.jpg')\n",
    "img = image.load_img(img_path, target_size=(224, 224))\n",
    "x = image.img_to_array(img)\n",
    "x = np.expand_dims(x, axis=0)\n",
    "x = preprocess_input(x)\n",
    "\n",
    "features = model.predict(x)"
   ]
  },
  {
   "cell_type": "code",
   "execution_count": 3,
   "metadata": {},
   "outputs": [
    {
     "name": "stdout",
     "output_type": "stream",
     "text": [
      "[[[[ 150.061     137.22101   116.32    ]\n",
      "   [ 150.061     137.22101   116.32    ]\n",
      "   [ 151.061     138.22101   117.32    ]\n",
      "   ...\n",
      "   [ 151.061     138.22101   117.32    ]\n",
      "   [ 151.061     138.22101   117.32    ]\n",
      "   [ 151.061     138.22101   117.32    ]]\n",
      "\n",
      "  [[ 151.061     137.22101   116.32    ]\n",
      "   [ 150.061     137.22101   116.32    ]\n",
      "   [ 151.061     138.22101   117.32    ]\n",
      "   ...\n",
      "   [ 151.061     138.22101   117.32    ]\n",
      "   [ 151.061     138.22101   117.32    ]\n",
      "   [ 151.061     138.22101   117.32    ]]\n",
      "\n",
      "  [[ 150.061     136.22101   115.32    ]\n",
      "   [ 151.061     137.22101   116.32    ]\n",
      "   [ 151.061     138.22101   117.32    ]\n",
      "   ...\n",
      "   [ 151.061     138.22101   117.32    ]\n",
      "   [ 151.061     138.22101   117.32    ]\n",
      "   [ 151.061     138.22101   117.32    ]]\n",
      "\n",
      "  ...\n",
      "\n",
      "  [[  38.060997   56.221      74.32    ]\n",
      "   [  10.060997   42.221      62.32    ]\n",
      "   [  11.060997   29.221      53.32    ]\n",
      "   ...\n",
      "   [ -99.939    -109.779    -108.68    ]\n",
      "   [-103.939    -112.779    -110.68    ]\n",
      "   [-103.939    -112.779    -104.68    ]]\n",
      "\n",
      "  [[  33.060997   51.221      69.32    ]\n",
      "   [  15.060997   45.221      65.32    ]\n",
      "   [  23.060997   39.221      63.32    ]\n",
      "   ...\n",
      "   [-103.939    -110.779    -110.68    ]\n",
      "   [-103.939    -110.779    -106.68    ]\n",
      "   [-100.939    -106.779     -98.68    ]]\n",
      "\n",
      "  [[  43.060997   60.221      80.32    ]\n",
      "   [  31.060997   57.221      78.32    ]\n",
      "   [  44.060997   59.221      82.32    ]\n",
      "   ...\n",
      "   [-102.939    -108.779    -106.68    ]\n",
      "   [-101.939    -108.779    -102.68    ]\n",
      "   [-103.939    -110.779    -100.68    ]]]]\n"
     ]
    }
   ],
   "source": [
    "print()"
   ]
  },
  {
   "cell_type": "code",
   "execution_count": null,
   "metadata": {},
   "outputs": [],
   "source": []
  }
 ],
 "metadata": {
  "kernelspec": {
   "display_name": "Python 3",
   "language": "python",
   "name": "python3"
  },
  "language_info": {
   "codemirror_mode": {
    "name": "ipython",
    "version": 3
   },
   "file_extension": ".py",
   "mimetype": "text/x-python",
   "name": "python",
   "nbconvert_exporter": "python",
   "pygments_lexer": "ipython3",
   "version": "3.7.9"
  }
 },
 "nbformat": 4,
 "nbformat_minor": 4
}
