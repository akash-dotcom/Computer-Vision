{
 "cells": [
  {
   "cell_type": "code",
   "execution_count": 1,
   "metadata": {},
   "outputs": [],
   "source": [
    "import cv2\n",
    "import numpy as np"
   ]
  },
  {
   "cell_type": "code",
   "execution_count": 2,
   "metadata": {},
   "outputs": [],
   "source": [
    "#Create a body classifier\n",
    "body_classifier = cv2.CascadeClassifier(r'C:\\Users\\AKASH\\Haarcascades\\haarcascade_fullbody.xml')"
   ]
  },
  {
   "cell_type": "code",
   "execution_count": 3,
   "metadata": {},
   "outputs": [],
   "source": [
    "#Initiate video capture for video file\n",
    "cap = cv2.VideoCapture(r'C:\\Users\\AKASH\\Downloads\\Computer-Vision-Tutorial-master\\Computer-Vision-Tutorial-master\\image_examples\\walking.avi')\n",
    "\n",
    "#Loop once video is successfully loaded\n",
    "\n",
    "while cap.isOpened():\n",
    "    \n",
    "    #Read first frame\n",
    "    ret,frame = cap.read()\n",
    "    \n",
    "    gray= cv2.cvtColor(frame,cv2.COLOR_BGR2GRAY)\n",
    "    #pass frame to our body classifier\n",
    "    bodies = body_classifier.detectMultiScale(gray,1.2,3)\n",
    "    \n",
    "    #Extract bounding boxes for any body idnetified\n",
    "    for(x,y,w,h) in bodies:\n",
    "        cv2.rectangle(frame,(x,y),(x+w,y+h),(0,255,255),2)\n",
    "        cv2.imshow('Pedestrians',frame)\n",
    "        \n",
    "    if cv2.waitKey(1) == 13: #13 is the enter key\n",
    "        break\n",
    "        \n",
    "cap.release()\n",
    "cv2.destroyAllWindows()"
   ]
  },
  {
   "cell_type": "code",
   "execution_count": null,
   "metadata": {},
   "outputs": [],
   "source": []
  }
 ],
 "metadata": {
  "kernelspec": {
   "display_name": "Python 3",
   "language": "python",
   "name": "python3"
  },
  "language_info": {
   "codemirror_mode": {
    "name": "ipython",
    "version": 3
   },
   "file_extension": ".py",
   "mimetype": "text/x-python",
   "name": "python",
   "nbconvert_exporter": "python",
   "pygments_lexer": "ipython3",
   "version": "3.7.9"
  }
 },
 "nbformat": 4,
 "nbformat_minor": 4
}
